{
 "cells": [
  {
   "cell_type": "code",
   "execution_count": 1,
   "id": "eac8d2ba-1511-498d-961d-91b589dce737",
   "metadata": {},
   "outputs": [],
   "source": [
    "using Thebes, Luxor, LightXML, NLsolve"
   ]
  },
  {
   "cell_type": "code",
   "execution_count": 2,
   "id": "3bddd5ce-2dec-44b4-892f-6d84e1940479",
   "metadata": {},
   "outputs": [],
   "source": [
    "O3D = Point3D(0, 0, 0)\n",
    "O2D = pin(O3D, gfunction=(p3, p2) -> nothing)\n",
    "pointradius = 3\n",
    "linewidth = 2;"
   ]
  },
  {
   "cell_type": "code",
   "execution_count": 3,
   "id": "4d6f832b-71bf-4bb3-b2ee-1932bc9b7057",
   "metadata": {},
   "outputs": [
    {
     "data": {
      "text/plain": [
       "myarrow (generic function with 1 method)"
      ]
     },
     "execution_count": 3,
     "metadata": {},
     "output_type": "execute_result"
    }
   ],
   "source": [
    "function textlabel!(parent, txt::AbstractString, pos::Point; xoffset::Number=0, yoffset::Number=0)\n",
    "    x = pos.x + xoffset + top_left_corner.x\n",
    "    y = pos.y + yoffset + top_left_corner.y\n",
    "    elem = new_child(parent, \"text\")\n",
    "    add_text(elem, txt)\n",
    "    set_attributes(elem, Dict(\"class\"=>\"math\", \"x\"=>string(x, \"pt\"), \"y\"=>string(y, \"pt\")))\n",
    "    return nothing\n",
    "end;\n",
    "\n",
    "function myarrow(p3d, p2d)\n",
    "    arrow(first(p2d), last(p2d), linewidth=linewidth)\n",
    "end"
   ]
  },
  {
   "cell_type": "code",
   "execution_count": 4,
   "id": "100d6ec3-f9d7-41ea-a88a-aa6339439160",
   "metadata": {},
   "outputs": [
    {
     "data": {
      "image/svg+xml": [
       "<?xml version=\"1.0\" encoding=\"UTF-8\"?>\n",
       "<svg xmlns=\"http://www.w3.org/2000/svg\" xmlns:xlink=\"http://www.w3.org/1999/xlink\" width=\"450\" height=\"250\" viewBox=\"0 0 450 250\">\n",
       "<path fill-rule=\"nonzero\" fill=\"rgb(0%, 0%, 0%)\" fill-opacity=\"1\" d=\"M 143.898438 146.597656 L 148.898438 146.597656 C 148.898438 153.265625 138.898438 153.265625 138.898438 146.597656 Z M 143.898438 146.597656 \"/>\n",
       "<path fill=\"none\" stroke-width=\"2\" stroke-linecap=\"butt\" stroke-linejoin=\"miter\" stroke=\"rgb(0%, 0%, 0%)\" stroke-opacity=\"1\" stroke-miterlimit=\"10\" d=\"M 143.898438 146.597656 L 24.089844 171.480469 \"/>\n",
       "<path fill-rule=\"nonzero\" fill=\"rgb(0%, 0%, 0%)\" fill-opacity=\"1\" d=\"M 24.867188 175.226562 L 15.046875 173.359375 L 23.3125 167.734375 \"/>\n",
       "<path fill=\"none\" stroke-width=\"2\" stroke-linecap=\"butt\" stroke-linejoin=\"miter\" stroke=\"rgb(0%, 0%, 0%)\" stroke-opacity=\"1\" stroke-miterlimit=\"10\" d=\"M 143.898438 146.597656 L 232.851562 174.957031 \"/>\n",
       "<path fill-rule=\"nonzero\" fill=\"rgb(0%, 0%, 0%)\" fill-opacity=\"1\" d=\"M 234.015625 171.3125 L 241.65625 177.761719 L 231.691406 178.601562 \"/>\n",
       "<path fill=\"none\" stroke-width=\"2\" stroke-linecap=\"butt\" stroke-linejoin=\"miter\" stroke=\"rgb(0%, 0%, 0%)\" stroke-opacity=\"1\" stroke-miterlimit=\"10\" d=\"M 143.898438 146.597656 L 143.242188 22.046875 \"/>\n",
       "<path fill-rule=\"nonzero\" fill=\"rgb(0%, 0%, 0%)\" fill-opacity=\"1\" d=\"M 139.414062 22.066406 L 143.195312 12.808594 L 147.070312 22.027344 \"/>\n",
       "<path fill=\"none\" stroke-width=\"2\" stroke-linecap=\"butt\" stroke-linejoin=\"miter\" stroke=\"rgb(0%, 0%, 0%)\" stroke-opacity=\"1\" stroke-miterlimit=\"10\" d=\"M 135.246094 144.320312 C 142.019531 118.589844 205.613281 113.023438 277.285156 131.890625 C 348.953125 150.757812 401.5625 186.910156 394.789062 212.644531 C 388.015625 238.375 324.425781 243.941406 252.753906 225.074219 C 181.082031 206.207031 128.472656 170.050781 135.246094 144.320312 \"/>\n",
       "<path fill-rule=\"nonzero\" fill=\"rgb(80%, 80%, 80%)\" fill-opacity=\"0.6\" d=\"M 135.246094 144.320312 C 142.019531 118.589844 205.613281 113.023438 277.285156 131.890625 C 348.953125 150.757812 401.5625 186.910156 394.789062 212.644531 C 388.015625 238.375 324.425781 243.941406 252.753906 225.074219 C 181.082031 206.207031 128.472656 170.050781 135.246094 144.320312 \"/>\n",
       "<path fill-rule=\"nonzero\" fill=\"rgb(0%, 0%, 0%)\" fill-opacity=\"1\" d=\"M 143.898438 146.597656 L 138.898438 146.597656 C 138.898438 139.933594 148.898438 139.933594 148.898438 146.597656 Z M 143.898438 146.597656 \"/>\n",
       "<path fill=\"none\" stroke-width=\"2\" stroke-linecap=\"butt\" stroke-linejoin=\"miter\" stroke=\"rgb(100%, 0%, 0%)\" stroke-opacity=\"1\" stroke-miterlimit=\"10\" d=\"M 143.898438 146.597656 L 385.855469 210.292969 \"/>\n",
       "<path fill-rule=\"nonzero\" fill=\"rgb(100%, 0%, 0%)\" fill-opacity=\"1\" d=\"M 386.832031 206.589844 L 394.789062 212.644531 L 384.882812 213.992188 \"/>\n",
       "<path fill=\"none\" stroke-width=\"2\" stroke-linecap=\"butt\" stroke-linejoin=\"miter\" stroke=\"rgb(100%, 0%, 0%)\" stroke-opacity=\"1\" stroke-miterlimit=\"10\" d=\"M 394.789062 212.644531 L 409.285156 189.273438 \"/>\n",
       "<path fill-rule=\"nonzero\" fill=\"rgb(100%, 0%, 0%)\" fill-opacity=\"1\" d=\"M 406.035156 187.257812 L 414.15625 181.425781 L 412.539062 191.292969 \"/>\n",
       "<path fill=\"none\" stroke-width=\"2\" stroke-linecap=\"butt\" stroke-linejoin=\"miter\" stroke=\"rgb(100%, 0%, 0%)\" stroke-opacity=\"1\" stroke-miterlimit=\"10\" d=\"M 394.789062 212.644531 L 398.691406 176.882812 \"/>\n",
       "<path fill-rule=\"nonzero\" fill=\"rgb(100%, 0%, 0%)\" fill-opacity=\"1\" d=\"M 394.886719 176.46875 L 399.691406 167.699219 L 402.496094 177.300781 \"/>\n",
       "<path fill=\"none\" stroke-width=\"2\" stroke-linecap=\"butt\" stroke-linejoin=\"miter\" stroke=\"rgb(0%, 0%, 100%)\" stroke-opacity=\"1\" stroke-miterlimit=\"10\" d=\"M 143.898438 146.597656 L 268.101562 132.902344 \"/>\n",
       "<path fill-rule=\"nonzero\" fill=\"rgb(0%, 0%, 100%)\" fill-opacity=\"1\" d=\"M 267.679688 129.101562 L 277.285156 131.890625 L 268.519531 136.707031 \"/>\n",
       "<path fill=\"none\" stroke-width=\"2\" stroke-linecap=\"butt\" stroke-linejoin=\"miter\" stroke=\"rgb(0%, 0%, 100%)\" stroke-opacity=\"1\" stroke-miterlimit=\"10\" d=\"M 277.285156 131.890625 L 260.839844 123.488281 \"/>\n",
       "<path fill-rule=\"nonzero\" fill=\"rgb(0%, 0%, 100%)\" fill-opacity=\"1\" d=\"M 259.097656 126.898438 L 252.613281 119.285156 L 262.582031 120.082031 \"/>\n",
       "<path fill=\"none\" stroke-width=\"2\" stroke-linecap=\"butt\" stroke-linejoin=\"miter\" stroke=\"rgb(0%, 0%, 100%)\" stroke-opacity=\"1\" stroke-miterlimit=\"10\" d=\"M 277.285156 131.890625 L 278.269531 113.457031 \"/>\n",
       "<path fill-rule=\"nonzero\" fill=\"rgb(0%, 0%, 100%)\" fill-opacity=\"1\" d=\"M 274.449219 113.253906 L 278.761719 104.234375 L 282.089844 113.664062 \"/>\n",
       "</svg>\n"
      ],
      "text/plain": []
     },
     "execution_count": 4,
     "metadata": {},
     "output_type": "execute_result"
    }
   ],
   "source": [
    "drawing_height = 250\n",
    "Drawing(450, drawing_height, :svg)\n",
    "helloworld()\n",
    "origin()\n",
    "# setcolor(\"black\")\n",
    "# box(Point(0,0), 450, drawing_height, :stroke)\n",
    "eyepoint(6, 6, 2)\n",
    "centerpoint(-9, -8, -2.5)\n",
    "perspective(500)\n",
    "\n",
    "plist = [\n",
    "    Point3D(1, -1, 0),\n",
    "    Point3D(4, 4, 0),\n",
    "    Point3D(-1, 4, 0),\n",
    "    Point3D(-1, -1, 0)\n",
    "]\n",
    "points = project.(plist)\n",
    "ecenter, emajor, eminor, erotation = ellipseinquad(points, :none)\n",
    "\n",
    "semilatus = sqrt(emajor^2 - eminor^2)\n",
    "occupied_focus = ecenter - Point(semilatus*cos(erotation), semilatus*sin(erotation))\n",
    "\n",
    "proj = newprojection(eyepoint(), centerpoint(), uppoint(), perspective())\n",
    "\n",
    "function nlsolvewrapper(target::Point)\n",
    "    function f!(F, x)\n",
    "        F[1] = (proj.U.x * x[1] + proj.U.y * x[2] - proj.ue) * x[3] - target.x\n",
    "        F[2] = (proj.V.x * x[1] + proj.V.y * x[2] - proj.ve) * x[3] + target.y\n",
    "        r = proj.W.x * x[1] + proj.W.y * x[2] - proj.we\n",
    "        F[3] = x[3] - proj.perspective / r\n",
    "    end\n",
    "    sol = nlsolve(f!, [0.1; 0.1; 100])\n",
    "    return sol\n",
    "end\n",
    "\n",
    "sol = nlsolvewrapper(occupied_focus)\n",
    "occupied_focus_3D = Point3D(sol.zero[1], sol.zero[2], 0)\n",
    "\n",
    "setcolor(\"black\")\n",
    "pin(occupied_focus_3D, gfunction=(_, p2) -> pie(p2, 5, 0, pi, :fill))\n",
    "\n",
    "# Axes\n",
    "setcolor(\"black\")\n",
    "_, X = pin(occupied_focus_3D, occupied_focus_3D + Point3D(2, 0, 0), gfunction=myarrow)\n",
    "_, Y = pin(occupied_focus_3D, occupied_focus_3D + Point3D(0, 2, 0), gfunction=myarrow)\n",
    "_, Z = pin(occupied_focus_3D, occupied_focus_3D + Point3D(0, 0, 2), gfunction=myarrow)\n",
    "\n",
    "setcolor(\"black\")\n",
    "ellipseinquad(points, :strokepreserve)\n",
    "setcolor((0.8, 0.8, 0.8, 0.6))\n",
    "fillpath()\n",
    "\n",
    "setcolor(\"black\")\n",
    "pin(occupied_focus_3D, gfunction=(_, p2) -> pie(p2, 5, pi, 0, :fill))\n",
    "\n",
    "# Position 1\n",
    "setcolor(\"red\")\n",
    "ellipse_vertex = Point(emajor*cos(erotation), emajor*sin(erotation)) + ecenter\n",
    "sol = nlsolvewrapper(ellipse_vertex)\n",
    "ellipse_vertex_3D = Point3D(sol.zero[1], sol.zero[2], 0)\n",
    "# Position\n",
    "pin(occupied_focus_3D, ellipse_vertex_3D, gfunction=myarrow)\n",
    "# Velocity\n",
    "_, dotr_1 = pin(ellipse_vertex_3D, ellipse_vertex_3D - Point3D(1.2, 0.3, 0), gfunction=myarrow)\n",
    "# Angular momentum\n",
    "_, h_1 = pin(ellipse_vertex_3D, ellipse_vertex_3D + Point3D(0, 0, 0.5), gfunction=myarrow)\n",
    "\n",
    "# Position 2\n",
    "setcolor(\"blue\")\n",
    "ellipse_covertex = Point(eminor*sin(erotation), -eminor*cos(erotation)) + ecenter\n",
    "sol = nlsolvewrapper(ellipse_covertex)\n",
    "ellipse_covertex_3D = Point3D(sol.zero[1], sol.zero[2], 0)\n",
    "# Position\n",
    "pin(occupied_focus_3D, ellipse_covertex_3D, gfunction=myarrow)\n",
    "# Velocity\n",
    "_, dotr_2 = pin(ellipse_covertex_3D, ellipse_covertex_3D - Point3D(0.5, 1, 0), gfunction=myarrow)\n",
    "# Angular momentum\n",
    "_, h_2 = pin(ellipse_covertex_3D, ellipse_covertex_3D + Point3D(0, 0, 0.5), gfunction=myarrow)\n",
    "\n",
    "top_left_corner = getworldposition(Point(0, 0), centered=false)\n",
    "finish()\n",
    "preview()"
   ]
  },
  {
   "cell_type": "code",
   "execution_count": 5,
   "id": "40039f96-fe97-49fb-be55-7bfff156c108",
   "metadata": {},
   "outputs": [],
   "source": [
    "svg_out = svgstring();\n",
    "xdoc = parse_string(svg_out)\n",
    "xroot = root(xdoc);"
   ]
  },
  {
   "cell_type": "code",
   "execution_count": 6,
   "id": "0c1afa7e-d7c8-49ba-b132-d968c5d99b5d",
   "metadata": {},
   "outputs": [],
   "source": [
    "textlabel!(xroot, \"\\\\boldsymbol{r}_1\", between(occupied_focus, ellipse_vertex, 0.4), yoffset=-20)\n",
    "textlabel!(xroot, \"\\\\dot{\\\\boldsymbol{r}}_1\", dotr_1, xoffset=-105, yoffset=-60)\n",
    "textlabel!(xroot, \"\\\\boldsymbol{h}_1\", h_1, xoffset=-110, yoffset=-55)\n",
    "\n",
    "textlabel!(xroot, \"\\\\boldsymbol{r}_2\", between(occupied_focus, ellipse_covertex, 0.4), xoffset=-20, yoffset=-35)\n",
    "textlabel!(xroot, \"\\\\dot{\\\\boldsymbol{r}}_2\", dotr_2, xoffset=-65, yoffset=-40)\n",
    "textlabel!(xroot, \"\\\\boldsymbol{h}_2\", h_2, xoffset=-80, yoffset=-40)\n",
    "\n",
    "textlabel!(xroot, \"x\", X, yoffset=-40)\n",
    "textlabel!(xroot, \"y\", Y, xoffset=-65, yoffset=-40)\n",
    "textlabel!(xroot, \"z\", Z, xoffset=-48, yoffset=10)"
   ]
  },
  {
   "cell_type": "code",
   "execution_count": 7,
   "id": "1c264e6a-9134-4026-b39a-879b25bd8c9b",
   "metadata": {},
   "outputs": [],
   "source": [
    "save_file(xdoc, \"../raw_svg/orbital-angular-momentum.svg\");"
   ]
  },
  {
   "cell_type": "code",
   "execution_count": null,
   "id": "0fe1a93d-00f4-428c-962d-752fb0f282ba",
   "metadata": {},
   "outputs": [],
   "source": []
  }
 ],
 "metadata": {
  "kernelspec": {
   "display_name": "Julia 1.11.2",
   "language": "julia",
   "name": "julia-1.11"
  },
  "language_info": {
   "file_extension": ".jl",
   "mimetype": "application/julia",
   "name": "julia",
   "version": "1.11.2"
  }
 },
 "nbformat": 4,
 "nbformat_minor": 5
}
