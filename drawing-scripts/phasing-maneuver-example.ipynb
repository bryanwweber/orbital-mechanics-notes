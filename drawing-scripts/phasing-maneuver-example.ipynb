{
 "cells": [
  {
   "cell_type": "code",
   "execution_count": 1,
   "id": "3ebd12aa-e474-4be3-b940-c86f260509bf",
   "metadata": {},
   "outputs": [],
   "source": [
    "using Luxor, LightXML"
   ]
  },
  {
   "cell_type": "code",
   "execution_count": 2,
   "id": "50d5ae87-154f-4fa2-824c-393ef0033bc2",
   "metadata": {},
   "outputs": [
    {
     "data": {
      "text/plain": [
       "true"
      ]
     },
     "execution_count": 2,
     "metadata": {},
     "output_type": "execute_result"
    }
   ],
   "source": [
    "drawing_height = 600\n",
    "drawing_width = 600\n",
    "Drawing(drawing_width, drawing_height, :svg)\n",
    "# box(O, Point(drawing_width, drawing_height), :stroke)\n",
    "bbox = BoundingBox(;centered=false)\n",
    "\n",
    "origin()\n",
    "\n",
    "target_longitude = 137.2  # °W longitude\n",
    "GEO_radius = 280  # arbitrary, pixel units\n",
    "R_E = 150  # arbitrary, pixel units\n",
    "target_point = polar(GEO_radius, deg2rad(target_longitude))\n",
    "initial_point = polar(GEO_radius, 0)\n",
    "\n",
    "@layer begin\n",
    "    circle(O, R_E, :stroke)\n",
    "    longitude_deg = collect(0:30:330)\n",
    "    longitude_strings = vcat([\"0°\"], string.(30:30:150) .* \"°W\", [\"180°\",], string.(150:-30:30) .* \"°E\")\n",
    "    longitude_rad = deg2rad.(longitude_deg)\n",
    "    line.(O, polar.(R_E, longitude_rad), :stroke)\n",
    "    fontface(\"sans-serif\")\n",
    "    text.(longitude_strings, polar.(R_E + 17, longitude_rad), halign=:center)\n",
    "end\n",
    "\n",
    "@layer begin\n",
    "    setdash(\"dashed\")\n",
    "    circle(O, GEO_radius, :stroke)\n",
    "    setdash(\"solid\")\n",
    "    arrow(O, 4GEO_radius/5, -π/6, -π/3, clockwise=false)\n",
    "    textcurve(\"Orbit direction\", -π/3, 7GEO_radius/8, 0, 0, clockwise=true)\n",
    "end\n",
    "@layer begin\n",
    "    setcolor(\"black\")\n",
    "    setline(4)\n",
    "    circle(initial_point, 5, :strokepreserve)\n",
    "    setcolor(\"white\")\n",
    "    fillpath()\n",
    "    setcolor(\"black\")\n",
    "    label(\"Impulse point\", :W, initial_point, offset=10)\n",
    "end\n",
    "@layer begin\n",
    "    setcolor(\"black\")\n",
    "    setline(4)\n",
    "    circle(target_point, 5, :strokepreserve)\n",
    "    setcolor(\"white\")\n",
    "    fillpath()\n",
    "    setcolor(\"black\")\n",
    "    label(\"Target longitude\", :NE, target_point, offset=7)\n",
    "end\n",
    "\n",
    "finish()\n",
    "# preview()"
   ]
  },
  {
   "cell_type": "code",
   "execution_count": 3,
   "id": "293435df-1a3d-47b6-a570-e217e624ba98",
   "metadata": {},
   "outputs": [],
   "source": [
    "svgout = svgstring()\n",
    "xdoc = parse_string(svgout)\n",
    "xroot = root(xdoc)\n",
    "save_file(xdoc, \"../images/phasing-maneuver-example.svg\");"
   ]
  }
 ],
 "metadata": {
  "kernelspec": {
   "display_name": "Julia 1.11.2",
   "language": "julia",
   "name": "julia-1.11"
  },
  "language_info": {
   "file_extension": ".jl",
   "mimetype": "application/julia",
   "name": "julia",
   "version": "1.11.2"
  }
 },
 "nbformat": 4,
 "nbformat_minor": 5
}
