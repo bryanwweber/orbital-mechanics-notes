{
 "cells": [
  {
   "cell_type": "code",
   "execution_count": 1,
   "id": "2ddbf246-c46f-4bb9-b09b-ceb2ac3aaa98",
   "metadata": {},
   "outputs": [],
   "source": [
    "using Thebes, Luxor, LightXML"
   ]
  },
  {
   "cell_type": "code",
   "execution_count": 2,
   "id": "d9ad0045-1fcd-479e-9902-bb23c2dc071a",
   "metadata": {},
   "outputs": [],
   "source": [
    "struct Colors\n",
    "    background\n",
    "    foreground\n",
    "end\n",
    "c = Colors(\"white\", \"black\");"
   ]
  },
  {
   "cell_type": "code",
   "execution_count": 3,
   "id": "83052021-8e3b-41ed-be7b-9ed0f9a67ee7",
   "metadata": {},
   "outputs": [],
   "source": [
    "function pointmass(p3d, p2d, pointradius)\n",
    "    circle(p2d, pointradius, :fill)\n",
    "    return nothing\n",
    "end\n",
    "\n",
    "function shortenvector(startpoint::Point, endpoint::Point; shortenstart=0, shortenend=0)\n",
    "    length = distance(startpoint, endpoint)\n",
    "    unitvector = (endpoint - startpoint) / length\n",
    "    new_start_point = startpoint + unitvector * shortenstart / length\n",
    "    new_end_point = new_start_point + (length - shortenend) * unitvector\n",
    "    return new_start_point, new_end_point\n",
    "end\n",
    "\n",
    "function vectorfromorigin(p3d, p2d, shortenend)\n",
    "    new_start_point, new_end_point = shortenvector(first(p2d), last(p2d), shortenend=shortenend)\n",
    "    arrow(new_start_point, new_end_point, linewidth=linewidth)\n",
    "    return nothing\n",
    "end\n",
    "\n",
    "function vectorbetweenpoints(p3d, p2d, shortenstart, shortenend)\n",
    "    new_start_point, new_end_point = shortenvector(first(p2d), last(p2d), shortenstart=shortenstart, shortenend=shortenend)\n",
    "    arrow(new_start_point, new_end_point, linewidth=linewidth)\n",
    "    return nothing\n",
    "end\n",
    "\n",
    "function barymark(p3d, p2d)\n",
    "    gsave()\n",
    "    radius = 2 * pointradius\n",
    "    setcolor(c.foreground)\n",
    "    circle(p2d, radius, :stroke)\n",
    "    pie(p2d, radius, pi/2, pi, :fill)\n",
    "    pie(p2d, radius, 3pi/2, 2pi, :fill)\n",
    "    setcolor(\"gray\")\n",
    "    pie(p2d, radius, 0, pi/2, :fill)\n",
    "    pie(p2d, radius, pi, 3pi/2, :fill)\n",
    "    grestore()\n",
    "end;"
   ]
  },
  {
   "cell_type": "code",
   "execution_count": 4,
   "id": "bf43293b-681d-48c8-9baf-887f56b85298",
   "metadata": {},
   "outputs": [],
   "source": [
    "O3D = Point3D(0, 0, 0)\n",
    "O2D = pin(O3D, gfunction=(p3, p2) -> nothing)\n",
    "pointradius = 3\n",
    "linewidth = 2;"
   ]
  },
  {
   "cell_type": "code",
   "execution_count": 5,
   "id": "919ec801-e0f6-4989-9fc5-8e3435bcbdea",
   "metadata": {},
   "outputs": [],
   "source": [
    "function textlabel!(parent, txt::AbstractString, pos::Point; xoffset::Number=0, yoffset::Number=0)\n",
    "    x = pos.x + xoffset + top_left_corner.x\n",
    "    y = pos.y + yoffset + top_left_corner.y\n",
    "    elem = new_child(parent, \"text\")\n",
    "    add_text(elem, txt)\n",
    "    set_attributes(elem, Dict(\"class\"=>\"math\", \"x\"=>string(x, \"pt\"), \"y\"=>string(y, \"pt\")))\n",
    "    return nothing\n",
    "end;"
   ]
  },
  {
   "cell_type": "code",
   "execution_count": 6,
   "id": "2fb965a4-fa2d-40e3-a015-679eb9e0336a",
   "metadata": {},
   "outputs": [
    {
     "data": {
      "image/svg+xml": [
       "<?xml version=\"1.0\" encoding=\"UTF-8\"?>\n",
       "<svg xmlns=\"http://www.w3.org/2000/svg\" xmlns:xlink=\"http://www.w3.org/1999/xlink\" width=\"425\" height=\"325\" viewBox=\"0 0 425 325\">\n",
       "<path fill=\"none\" stroke-width=\"1.333333\" stroke-linecap=\"butt\" stroke-linejoin=\"miter\" stroke=\"rgb(0%, 0%, 0%)\" stroke-opacity=\"1\" stroke-miterlimit=\"10\" d=\"M 200 225 L 43.257812 314.566406 \"/>\n",
       "<path fill-rule=\"nonzero\" fill=\"rgb(0%, 0%, 0%)\" fill-opacity=\"1\" d=\"M 45.15625 317.890625 L 35.238281 319.148438 L 41.359375 311.242188 \"/>\n",
       "<path fill=\"none\" stroke-width=\"1.333333\" stroke-linecap=\"butt\" stroke-linejoin=\"miter\" stroke=\"rgb(0%, 0%, 0%)\" stroke-opacity=\"1\" stroke-miterlimit=\"10\" d=\"M 200 225 L 402.765625 253.964844 \"/>\n",
       "<path fill-rule=\"nonzero\" fill=\"rgb(0%, 0%, 0%)\" fill-opacity=\"1\" d=\"M 403.304688 250.179688 L 411.910156 255.273438 L 402.222656 257.753906 \"/>\n",
       "<path fill=\"none\" stroke-width=\"1.333333\" stroke-linecap=\"butt\" stroke-linejoin=\"miter\" stroke=\"rgb(0%, 0%, 0%)\" stroke-opacity=\"1\" stroke-miterlimit=\"10\" d=\"M 200 225 L 200 16.675781 \"/>\n",
       "<path fill-rule=\"nonzero\" fill=\"rgb(0%, 0%, 0%)\" fill-opacity=\"1\" d=\"M 196.171875 16.675781 L 200 7.4375 L 203.828125 16.675781 \"/>\n",
       "<path fill=\"none\" stroke-width=\"1.333333\" stroke-linecap=\"butt\" stroke-linejoin=\"miter\" stroke=\"rgb(0%, 0%, 0%)\" stroke-opacity=\"1\" stroke-miterlimit=\"10\" d=\"M 200 225 L 174.179688 239.753906 \"/>\n",
       "<path fill-rule=\"nonzero\" fill=\"rgb(0%, 0%, 0%)\" fill-opacity=\"1\" d=\"M 176.078125 243.078125 L 166.15625 244.339844 L 172.28125 236.433594 \"/>\n",
       "<path fill=\"none\" stroke-width=\"1.333333\" stroke-linecap=\"butt\" stroke-linejoin=\"miter\" stroke=\"rgb(0%, 0%, 0%)\" stroke-opacity=\"1\" stroke-miterlimit=\"10\" d=\"M 200 225 L 249.097656 232.015625 \"/>\n",
       "<path fill-rule=\"nonzero\" fill=\"rgb(0%, 0%, 0%)\" fill-opacity=\"1\" d=\"M 249.636719 228.226562 L 258.242188 233.320312 L 248.554688 235.800781 \"/>\n",
       "<path fill=\"none\" stroke-width=\"1.333333\" stroke-linecap=\"butt\" stroke-linejoin=\"miter\" stroke=\"rgb(0%, 0%, 0%)\" stroke-opacity=\"1\" stroke-miterlimit=\"10\" d=\"M 200 225 L 200 174.609375 \"/>\n",
       "<path fill-rule=\"nonzero\" fill=\"rgb(0%, 0%, 0%)\" fill-opacity=\"1\" d=\"M 196.171875 174.609375 L 200 165.371094 L 203.828125 174.609375 \"/>\n",
       "<path fill-rule=\"nonzero\" fill=\"rgb(0%, 0%, 0%)\" fill-opacity=\"1\" d=\"M 308.851562 165.371094 C 308.851562 167.855469 306.835938 169.871094 304.351562 169.871094 C 301.863281 169.871094 299.851562 167.855469 299.851562 165.371094 C 299.851562 162.886719 301.863281 160.871094 304.351562 160.871094 C 306.835938 160.871094 308.851562 162.886719 308.851562 165.371094 Z M 308.851562 165.371094 \"/>\n",
       "<path fill=\"none\" stroke-width=\"2\" stroke-linecap=\"butt\" stroke-linejoin=\"miter\" stroke=\"rgb(0%, 0%, 0%)\" stroke-opacity=\"1\" stroke-miterlimit=\"10\" d=\"M 200 225 L 292.421875 172.1875 \"/>\n",
       "<path fill-rule=\"nonzero\" fill=\"rgb(0%, 0%, 0%)\" fill-opacity=\"1\" d=\"M 290.523438 168.867188 L 300.441406 167.605469 L 294.320312 175.511719 \"/>\n",
       "<path fill-rule=\"nonzero\" fill=\"rgb(0%, 0%, 0%)\" fill-opacity=\"1\" d=\"M 35.996094 98.96875 C 35.996094 102.695312 32.972656 105.71875 29.246094 105.71875 C 25.519531 105.71875 22.496094 102.695312 22.496094 98.96875 C 22.496094 95.238281 25.519531 92.21875 29.246094 92.21875 C 32.972656 92.21875 35.996094 95.238281 35.996094 98.96875 Z M 35.996094 98.96875 \"/>\n",
       "<path fill=\"none\" stroke-width=\"2\" stroke-linecap=\"butt\" stroke-linejoin=\"miter\" stroke=\"rgb(0%, 0%, 0%)\" stroke-opacity=\"1\" stroke-miterlimit=\"10\" d=\"M 200 225 L 42.109375 108.460938 \"/>\n",
       "<path fill-rule=\"nonzero\" fill=\"rgb(0%, 0%, 0%)\" fill-opacity=\"1\" d=\"M 39.835938 111.542969 L 34.675781 102.976562 L 44.382812 105.382812 \"/>\n",
       "<path fill=\"none\" stroke-width=\"2\" stroke-linecap=\"butt\" stroke-linejoin=\"miter\" stroke=\"rgb(0%, 0%, 0%)\" stroke-opacity=\"1\" stroke-miterlimit=\"10\" d=\"M 304.335938 165.367188 L 44.773438 102.714844 \"/>\n",
       "<path fill-rule=\"nonzero\" fill=\"rgb(0%, 0%, 0%)\" fill-opacity=\"1\" d=\"M 43.875 106.433594 L 35.792969 100.546875 L 45.671875 98.996094 \"/>\n",
       "<path fill=\"none\" stroke-width=\"2\" stroke-linecap=\"butt\" stroke-linejoin=\"miter\" stroke=\"rgb(0%, 0%, 0%)\" stroke-opacity=\"1\" stroke-miterlimit=\"10\" d=\"M 178.777344 133.613281 C 178.777344 136.925781 176.09375 139.613281 172.777344 139.613281 C 169.464844 139.613281 166.777344 136.925781 166.777344 133.613281 C 166.777344 130.300781 169.464844 127.613281 172.777344 127.613281 C 176.09375 127.613281 178.777344 130.300781 178.777344 133.613281 Z M 178.777344 133.613281 \"/>\n",
       "<path fill-rule=\"nonzero\" fill=\"rgb(0%, 0%, 0%)\" fill-opacity=\"1\" d=\"M 172.777344 133.613281 L 172.777344 139.613281 C 169.464844 139.613281 166.777344 136.925781 166.777344 133.613281 Z M 172.777344 133.613281 \"/>\n",
       "<path fill-rule=\"nonzero\" fill=\"rgb(0%, 0%, 0%)\" fill-opacity=\"1\" d=\"M 172.777344 133.613281 L 172.777344 127.613281 C 176.09375 127.613281 178.777344 130.300781 178.777344 133.613281 Z M 172.777344 133.613281 \"/>\n",
       "<path fill-rule=\"nonzero\" fill=\"rgb(50.196078%, 50.196078%, 50.196078%)\" fill-opacity=\"1\" d=\"M 172.777344 133.613281 L 178.777344 133.613281 C 178.777344 136.925781 176.09375 139.613281 172.777344 139.613281 Z M 172.777344 133.613281 \"/>\n",
       "<path fill-rule=\"nonzero\" fill=\"rgb(50.196078%, 50.196078%, 50.196078%)\" fill-opacity=\"1\" d=\"M 172.777344 133.613281 L 166.777344 133.613281 C 166.777344 130.300781 169.464844 127.613281 172.777344 127.613281 Z M 172.777344 133.613281 \"/>\n",
       "</svg>\n"
      ],
      "text/plain": []
     },
     "execution_count": 6,
     "metadata": {},
     "output_type": "execute_result"
    }
   ],
   "source": [
    "Drawing(425, 325, :svg)\n",
    "# background(c.background)\n",
    "origin(Point(200, 225))\n",
    "helloworld()\n",
    "eyepoint(600, 300, 200)\n",
    "perspective(200)\n",
    "# axes3D(600)\n",
    "\n",
    "setcolor(c.foreground)\n",
    "setline(linewidth)\n",
    "\n",
    "# arrow doesn't respect setline\n",
    "lw = linewidth / 1.5\n",
    "X3D = Point3D(500, 0, 0)\n",
    "Y3D = Point3D(0, 550, 0)\n",
    "Z3D = Point3D(0, 0, 600)\n",
    "scale = 200\n",
    "I3D = X3D / distance(O3D, X3D) * scale\n",
    "J3D = Y3D / distance(O3D, Y3D) * scale\n",
    "K3D = Z3D / distance(O3D, Z3D) * scale\n",
    "_, X = pin(O3D, X3D, gfunction=(_, p2d) -> arrow(first(p2d), last(p2d), linewidth=lw))\n",
    "_, Y = pin(O3D, Y3D, gfunction=(_, p2d) -> arrow(first(p2d), last(p2d), linewidth=lw))\n",
    "_, Z = pin(O3D, Z3D, gfunction=(_, p2d) -> arrow(first(p2d), last(p2d), linewidth=lw))\n",
    "_, I = pin(O3D, I3D, gfunction=(_, p2d) -> arrow(first(p2d), last(p2d), linewidth=lw))\n",
    "_, J = pin(O3D, J3D, gfunction=(_, p2d) -> arrow(first(p2d), last(p2d), linewidth=lw))\n",
    "_, K = pin(O3D, K3D, gfunction=(_, p2d) -> arrow(first(p2d), last(p2d), linewidth=lw))\n",
    "\n",
    "p1 = Point3D(300, 300, 200)\n",
    "m1 = 1.5\n",
    "r1 = pointradius * m1\n",
    "loc1 = pin(p1, gfunction=(p3d, p2d) -> pointmass(p3d, p2d, r1))\n",
    "pin(O3D, p1, gfunction=(p3d, p2d) -> vectorfromorigin(p3d, p2d, r1))\n",
    "\n",
    "p2 = Point3D(500, 100, 250)\n",
    "m2 = 2.25\n",
    "r2 = pointradius * m2\n",
    "loc2 = pin(p2, gfunction=(p3d, p2d) -> pointmass(p3d, p2d, r2))\n",
    "pin(O3D, p2, gfunction=(p3d, p2d) -> vectorfromorigin(p3d, p2d, r2))\n",
    "\n",
    "pin(p1, p2, gfunction=(p3d, p2d) -> vectorbetweenpoints(p3d, p2d, r1, r2))\n",
    "\n",
    "barycenter = (m1 * p1 + m2 * p2) / (m1 + m2)\n",
    "COG = pin(barycenter, gfunction=barymark)\n",
    "\n",
    "top_left_corner = getworldposition(Point(0, 0), centered=false)\n",
    "finish()\n",
    "preview()"
   ]
  },
  {
   "cell_type": "code",
   "execution_count": 7,
   "id": "f5ffc234-e50d-45e1-8336-848881c3bad3",
   "metadata": {},
   "outputs": [],
   "source": [
    "svg_out = svgstring();\n",
    "xdoc = parse_string(svg_out)\n",
    "xroot = root(xdoc);"
   ]
  },
  {
   "cell_type": "code",
   "execution_count": 8,
   "id": "6c7488ee-fd65-4868-9c70-f8e280d3fdc8",
   "metadata": {},
   "outputs": [],
   "source": [
    "textlabel!(xroot, \"m_1\", loc1, xoffset=-70, yoffset=-40)\n",
    "textlabel!(xroot, \"m_2\", loc2, xoffset=-30, yoffset=-25)\n",
    "textlabel!(xroot, \"\\\\boldsymbol{R}_1\", midpoint(O2D, loc1), xoffset=-50, yoffset=-50)\n",
    "textlabel!(xroot, \"\\\\boldsymbol{R}_2\", midpoint(O2D, loc2), xoffset=-55, yoffset=-50)\n",
    "textlabel!(xroot, \"\\\\boldsymbol{r}\", between(loc1, loc2, 0.3), xoffset=-50, yoffset=-50)\n",
    "textlabel!(xroot, \"\\\\mathrm{COG}\", COG, xoffset=-55, yoffset=-50)\n",
    "textlabel!(xroot, \"X\", X, yoffset=-105)\n",
    "textlabel!(xroot, \"Y\", Y, xoffset=-125, yoffset=-80)\n",
    "textlabel!(xroot, \"Z\", Z, xoffset=-45)\n",
    "textlabel!(xroot, \"\\\\boldsymbol{\\\\hat{I}}\", midpoint(O2D, I), xoffset=-50, yoffset=-50)\n",
    "textlabel!(xroot, \"\\\\boldsymbol{\\\\hat{J}}\", midpoint(O2D, J), xoffset=-50, yoffset=-50)\n",
    "textlabel!(xroot, \"\\\\boldsymbol{\\\\hat{K}}\", between(O2D, K, 0.7), xoffset=-50, yoffset=-50);"
   ]
  },
  {
   "cell_type": "code",
   "execution_count": 9,
   "id": "f8a60a09-447e-456b-9b4e-280e0ce8df55",
   "metadata": {},
   "outputs": [],
   "source": [
    "save_file(xdoc, \"../raw_svg/two-point-masses.svg\");"
   ]
  }
 ],
 "metadata": {
  "kernelspec": {
   "display_name": "Julia 1.11.2",
   "language": "julia",
   "name": "julia-1.11"
  },
  "language_info": {
   "file_extension": ".jl",
   "mimetype": "application/julia",
   "name": "julia",
   "version": "1.11.2"
  }
 },
 "nbformat": 4,
 "nbformat_minor": 5
}
