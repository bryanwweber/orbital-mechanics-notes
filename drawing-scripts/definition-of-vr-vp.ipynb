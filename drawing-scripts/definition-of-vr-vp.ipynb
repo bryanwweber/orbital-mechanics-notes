{
 "cells": [
  {
   "cell_type": "code",
   "execution_count": 1,
   "id": "aa358430-1884-4f92-a059-2ad26de8a400",
   "metadata": {},
   "outputs": [],
   "source": [
    "using Luxor, LightXML"
   ]
  },
  {
   "cell_type": "code",
   "execution_count": 2,
   "id": "e1cf83ee-e796-4ace-8ee8-1f7b93523d23",
   "metadata": {},
   "outputs": [
    {
     "data": {
      "text/plain": [
       "myarrow (generic function with 1 method)"
      ]
     },
     "execution_count": 2,
     "metadata": {},
     "output_type": "execute_result"
    }
   ],
   "source": [
    "function textlabel!(parent, txt::AbstractString, pos::Point; xoffset::Number=0, yoffset::Number=0)\n",
    "    x = pos.x + xoffset + top_left_corner.x\n",
    "    y = pos.y + yoffset + top_left_corner.y\n",
    "    elem = new_child(parent, \"text\")\n",
    "    add_text(elem, txt)\n",
    "    set_attributes(elem, Dict(\"class\"=>\"math\", \"x\"=>string(x, \"pt\"), \"y\"=>string(y, \"pt\")))\n",
    "    return nothing\n",
    "end;\n",
    "\n",
    "function myarrow(p3d, p2d)\n",
    "    arrow(first(p2d), last(p2d), linewidth=linewidth)\n",
    "end"
   ]
  },
  {
   "cell_type": "code",
   "execution_count": 3,
   "id": "8301b9f0-6902-4c86-a3bd-8053e1d9fcc8",
   "metadata": {},
   "outputs": [],
   "source": [
    "pointradius = 10\n",
    "linewidth = 2;"
   ]
  },
  {
   "cell_type": "code",
   "execution_count": 4,
   "id": "6847bddc-76a1-4b09-8071-a9ab161b410a",
   "metadata": {},
   "outputs": [
    {
     "data": {
      "image/svg+xml": [
       "<?xml version=\"1.0\" encoding=\"UTF-8\"?>\n",
       "<svg xmlns=\"http://www.w3.org/2000/svg\" xmlns:xlink=\"http://www.w3.org/1999/xlink\" width=\"450\" height=\"250\" viewBox=\"0 0 450 250\">\n",
       "<path fill=\"none\" stroke-width=\"2\" stroke-linecap=\"butt\" stroke-linejoin=\"miter\" stroke=\"rgb(0%, 0%, 100%)\" stroke-opacity=\"1\" stroke-miterlimit=\"10\" d=\"M 225 225 C 250.4375 163.953125 251.652344 95.503906 228.402344 33.589844 \"/>\n",
       "<path fill-rule=\"nonzero\" fill=\"rgb(0%, 0%, 100%)\" fill-opacity=\"1\" d=\"M 224.84375 35 L 225 25 L 231.960938 32.179688 \"/>\n",
       "<path fill-rule=\"nonzero\" fill=\"rgb(0%, 0%, 0%)\" fill-opacity=\"1\" d=\"M 85 175 C 85 180.523438 80.523438 185 75 185 C 69.476562 185 65 180.523438 65 175 C 65 169.476562 69.476562 165 75 165 C 80.523438 165 85 169.476562 85 175 Z M 85 175 \"/>\n",
       "<path fill-rule=\"nonzero\" fill=\"rgb(0%, 0%, 0%)\" fill-opacity=\"1\" d=\"M 248.332031 125 C 248.332031 126.839844 246.839844 128.332031 245 128.332031 C 243.160156 128.332031 241.667969 126.839844 241.667969 125 C 241.667969 123.160156 243.160156 121.667969 245 121.667969 C 246.839844 121.667969 248.332031 123.160156 248.332031 125 Z M 248.332031 125 \"/>\n",
       "<path fill=\"none\" stroke-width=\"2\" stroke-linecap=\"butt\" stroke-linejoin=\"miter\" stroke=\"rgb(0%, 0%, 0%)\" stroke-opacity=\"1\" stroke-miterlimit=\"10\" d=\"M 75 175 L 236.136719 127.605469 \"/>\n",
       "<path fill-rule=\"nonzero\" fill=\"rgb(0%, 0%, 0%)\" fill-opacity=\"1\" d=\"M 235.058594 123.933594 L 245 125 L 237.214844 131.277344 \"/>\n",
       "<path fill=\"none\" stroke-width=\"2\" stroke-linecap=\"butt\" stroke-linejoin=\"miter\" stroke=\"rgb(0%, 0%, 0%)\" stroke-opacity=\"1\" stroke-miterlimit=\"10\" d=\"M 255.277344 121.976562 L 308.089844 106.445312 \"/>\n",
       "<path fill-rule=\"nonzero\" fill=\"rgb(0%, 0%, 0%)\" fill-opacity=\"1\" d=\"M 307.007812 102.773438 L 316.953125 103.835938 L 309.167969 110.117188 \"/>\n",
       "<path fill=\"none\" stroke-width=\"2\" stroke-linecap=\"butt\" stroke-linejoin=\"miter\" stroke=\"rgb(0%, 0%, 0%)\" stroke-opacity=\"1\" stroke-miterlimit=\"10\" d=\"M 241.976562 114.722656 L 228.367188 68.453125 \"/>\n",
       "<path fill-rule=\"nonzero\" fill=\"rgb(0%, 0%, 0%)\" fill-opacity=\"1\" d=\"M 224.695312 69.53125 L 225.761719 59.589844 L 232.039062 67.371094 \"/>\n",
       "<path fill=\"none\" stroke-width=\"2\" stroke-linecap=\"butt\" stroke-linejoin=\"miter\" stroke=\"rgb(0%, 0%, 0%)\" stroke-opacity=\"1\" stroke-miterlimit=\"10\" d=\"M 250.570312 115.847656 L 292.910156 46.316406 \"/>\n",
       "<path fill-rule=\"nonzero\" fill=\"rgb(0%, 0%, 0%)\" fill-opacity=\"1\" d=\"M 289.640625 44.328125 L 297.714844 38.425781 L 296.175781 48.308594 \"/>\n",
       "<path fill=\"none\" stroke-width=\"2\" stroke-linecap=\"butt\" stroke-linejoin=\"miter\" stroke=\"rgb(100%, 0%, 0%)\" stroke-opacity=\"1\" stroke-miterlimit=\"10\" d=\"M 327.230469 100.8125 L 356.058594 92.335938 \"/>\n",
       "<path fill-rule=\"nonzero\" fill=\"rgb(100%, 0%, 0%)\" fill-opacity=\"1\" d=\"M 354.976562 88.664062 L 364.921875 89.730469 L 357.136719 96.007812 \"/>\n",
       "<path fill=\"none\" stroke-width=\"2\" stroke-linecap=\"butt\" stroke-linejoin=\"miter\" stroke=\"rgb(100%, 0%, 0%)\" stroke-opacity=\"1\" stroke-miterlimit=\"10\" d=\"M 222.738281 49.308594 L 214.261719 20.484375 \"/>\n",
       "<path fill-rule=\"nonzero\" fill=\"rgb(100%, 0%, 0%)\" fill-opacity=\"1\" d=\"M 210.589844 21.5625 L 211.652344 11.621094 L 217.929688 19.402344 \"/>\n",
       "<path fill=\"none\" stroke-width=\"2\" stroke-linecap=\"butt\" stroke-linejoin=\"miter\" stroke=\"rgb(0%, 0%, 0%)\" stroke-opacity=\"1\" stroke-dasharray=\"4 4\" stroke-miterlimit=\"10\" d=\"M 225.761719 59.589844 L 297.714844 38.425781 \"/>\n",
       "<path fill=\"none\" stroke-width=\"2\" stroke-linecap=\"butt\" stroke-linejoin=\"miter\" stroke=\"rgb(0%, 0%, 0%)\" stroke-opacity=\"1\" stroke-dasharray=\"4 4\" stroke-miterlimit=\"10\" d=\"M 297.714844 38.425781 L 316.953125 103.835938 \"/>\n",
       "</svg>\n"
      ],
      "text/plain": []
     },
     "execution_count": 4,
     "metadata": {},
     "output_type": "execute_result"
    }
   ],
   "source": [
    "drawing_height = 250\n",
    "Drawing(450, drawing_height, :svg)\n",
    "origin()\n",
    "\n",
    "chord = 100\n",
    "arcend1 = Point(0, -chord)\n",
    "arcend2 = Point(0, chord)\n",
    "arcsagitta = 20\n",
    "radius = (arcsagitta^2 + chord^2) / (2 * arcsagitta)\n",
    "centerpoint = Point(-radius + arcsagitta, 0)\n",
    "halfangle = asin(chord / radius)\n",
    "\n",
    "m1 = Point(-150, 50)\n",
    "m2 = O + Point(arcsagitta, 0)\n",
    "slopeofr = slope(m1, m2) # rad\n",
    "\n",
    "hypot = 75\n",
    "vp_short = 1.1\n",
    "ur_short = 1.5\n",
    "vr = m2 + Point(hypot*cos(slopeofr), hypot*sin(slopeofr))\n",
    "ur = vr + Point(hypot/ur_short*cos(slopeofr), hypot/ur_short*sin(slopeofr))\n",
    "vp = m2 + Point(hypot/vp_short*sin(slopeofr), -hypot/vp_short*cos(slopeofr))\n",
    "up = vp + Point(hypot/ur_short*sin(slopeofr), -hypot/ur_short*cos(slopeofr))\n",
    "outsidecorner = Point(vp.x + hypot*cos(slopeofr), vr.y - hypot/vp_short*cos(slopeofr))\n",
    "\n",
    "slopeofrdot = slope(m2, outsidecorner)\n",
    "\n",
    "# arc2sagitta(arcend1, arcend2, arcsagitta, :stroke)\n",
    "setcolor(\"blue\")\n",
    "arrow(centerpoint, radius, halfangle, -halfangle, linewidth=linewidth, clockwise=false)\n",
    "\n",
    "setcolor(\"black\")\n",
    "circle(m1, pointradius, :fill)\n",
    "circle(m2, pointradius/3, :fill)\n",
    "arrow(m1, m2, linewidth=linewidth)\n",
    "shorten = hypot/7\n",
    "arrow(m2 + Point(shorten*cos(slopeofr), shorten*sin(slopeofr)), vr, linewidth=linewidth)\n",
    "arrow(m2 + Point(shorten*sin(slopeofr), -shorten*cos(slopeofr)), vp, linewidth=linewidth)\n",
    "arrow(m2 + Point(shorten*cos(slopeofrdot), shorten*sin(slopeofrdot)), outsidecorner, linewidth=linewidth)\n",
    "\n",
    "setcolor(\"red\")\n",
    "arrow(vr + Point(shorten*cos(slopeofr), shorten*sin(slopeofr)), ur, linewidth=linewidth)\n",
    "arrow(vp + Point(shorten*sin(slopeofr), -shorten*cos(slopeofr)), up, linewidth=linewidth)\n",
    "\n",
    "setcolor(\"black\")\n",
    "setdash(\"dash\")\n",
    "line(vp, outsidecorner, :stroke)\n",
    "line(outsidecorner, vr, :stroke)\n",
    "\n",
    "top_left_corner = getworldposition(Point(0, 0), centered=false)\n",
    "finish()\n",
    "preview()"
   ]
  },
  {
   "cell_type": "code",
   "execution_count": 5,
   "id": "770cfaf2-3708-4a37-a5e7-39d7e07baab5",
   "metadata": {},
   "outputs": [],
   "source": [
    "svg_out = svgstring();\n",
    "xdoc = parse_string(svg_out)\n",
    "xroot = root(xdoc);"
   ]
  },
  {
   "cell_type": "code",
   "execution_count": 6,
   "id": "11ea7902-bfc3-4e8d-85b8-ae66fb7ae2ff",
   "metadata": {},
   "outputs": [],
   "source": [
    "textlabel!(xroot, \"\\\\boldsymbol{r}\", between(m1, m2, 0.4), yoffset=-45)\n",
    "textlabel!(xroot, \"\\\\dot{\\\\boldsymbol{r}}_1\", outsidecorner, xoffset=-70, yoffset=-25)\n",
    "textlabel!(xroot, \"\\\\text{Path of } m_2\", arcend2, xoffset=-50, yoffset=-50)\n",
    "textlabel!(xroot, \"m_1\", m1, xoffset=-20, yoffset=-30)\n",
    "textlabel!(xroot, \"m_2\", m2, xoffset=-60, yoffset=-25)\n",
    "textlabel!(xroot, \"v_r\", vr, xoffset=-95, yoffset=-15)\n",
    "textlabel!(xroot, \"v_{\\\\perp}\", vp, xoffset=-70, yoffset=-10)\n",
    "textlabel!(xroot, \"\\\\hat{\\\\boldsymbol{u}}_{r}\", ur, xoffset=-90, yoffset=-20)\n",
    "textlabel!(xroot, \"\\\\hat{\\\\boldsymbol{u}}_{\\\\perp}\", up, xoffset=-70, yoffset=-10)\n"
   ]
  },
  {
   "cell_type": "code",
   "execution_count": 7,
   "id": "2491706f-701c-4072-85e1-f0c5ef262416",
   "metadata": {},
   "outputs": [],
   "source": [
    "save_file(xdoc, \"../raw_svg/definition-of-vr-vp.svg\");"
   ]
  },
  {
   "cell_type": "code",
   "execution_count": null,
   "id": "00e881bc-bcae-4b00-89c1-b44334b9e167",
   "metadata": {},
   "outputs": [],
   "source": []
  }
 ],
 "metadata": {
  "kernelspec": {
   "display_name": "Julia 1.11.2",
   "language": "julia",
   "name": "julia-1.11"
  },
  "language_info": {
   "file_extension": ".jl",
   "mimetype": "application/julia",
   "name": "julia",
   "version": "1.11.2"
  }
 },
 "nbformat": 4,
 "nbformat_minor": 5
}
