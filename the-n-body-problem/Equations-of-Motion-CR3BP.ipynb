{
 "cells": [
  {
   "cell_type": "markdown",
   "metadata": {},
   "source": [
    "# Example: CR3BP Equations of Motion\n",
    "\n",
    "Equation {eq}`eq:non-dim-scalar-eom-cr3bp` shows the three nondimensional scalar equations of motion for the CR3BP, repeated here for reference:\n",
    "\n",
    ":::{math}\n",
    "\\begin{aligned}\n",
    "  \\ddot{x}^* - 2\\dot{y}^* - x^* &= -\\frac{1 - \\pi_2}{\\sigma^3}\\left(x^* + \\pi_2\\right) - \\frac{\\pi_2}{\\psi^3}\\left(x^* - 1 + \\pi_2\\right) \\\\\n",
    "  \\ddot{y}^* + 2\\dot{x}^* - y^* &= -\\frac{1 - \\pi_2}{\\sigma^3} y^* - \\frac{\\pi_2}{\\psi^3}y^* \\\\\n",
    "  \\ddot{z}^* &= -\\frac{1 - \\pi_2}{\\sigma^3}z^* - \\frac{\\pi_2}{\\psi^3}z^*\n",
    "\\end{aligned}\n",
    ":::\n",
    "\n",
    "In this example, we will solve this system of equations numerically for the position of the tertiary mass $m$ as a function of time in the rotating frame of reference. The state vector in this problem is the same as in [the relative motion case](./two-body-relative-numerical-solution.md). There are six elements of the state vector:\n",
    "\n",
    ":::{math}\n",
    ":label: eq:state-vector-cr3bp\n",
    "Y = \\left[x^*\\ y^*\\ z^*\\ \\dot{x}^*\\ \\dot{y}^*\\ \\dot{z}^*\\right]^T\n",
    ":::\n",
    "\n",
    "To put Eq. {eq}`eq:non-dim-scalar-eom-cr3bp` into a form that we can solve, we need to solve for the acceleration components:\n",
    "\n",
    ":::{math}\n",
    "\\begin{aligned}\n",
    "  \\ddot{x}^* &= 2\\dot{y}^* + x^* - \\frac{1 - \\pi_2}{\\sigma^3} \\left(x^* + \\pi_2\\right) - \\frac{\\pi_2}{\\psi^3}\\left(x^* - 1 + \\pi_2\\right) \\\\\n",
    "  \\ddot{y}^* &= -2\\dot{x}^* + y^* - \\frac{1 - \\pi_2}{\\sigma^3} y^* - \\frac{\\pi_2}{\\psi^3}y^* \\\\\n",
    "  \\ddot{z}^* &= -\\frac{1 - \\pi_2}{\\sigma^3}z^* - \\frac{\\pi_2}{\\psi^3}z^*\n",
    "\\end{aligned}\n",
    ":::\n",
    "\n",
    "We need to provide $\\pi_2$, the mass ratio, as the parameter of the system, along with the initial position and velocity. Let's solve this system of equations numerically to find the position of $m$ as a function of non-dimensional time in the rotating frame of reference. First, we import the appropriate libraries:"
   ]
  },
  {
   "cell_type": "code",
   "execution_count": null,
   "metadata": {},
   "outputs": [],
   "source": [
    "import matplotlib.pyplot as plt\n",
    "import numpy as np\n",
    "from scipy.integrate import solve_ivp"
   ]
  },
  {
   "cell_type": "code",
   "execution_count": null,
   "metadata": {},
   "outputs": [],
   "source": [
    "# These masses represent the Earth-Moon system\n",
    "m_1 = 5.974e24  # kg\n",
    "m_2 = 7.348e22  # kg\n",
    "pi_2 = m_2 / (m_1 + m_2)"
   ]
  },
  {
   "cell_type": "markdown",
   "metadata": {},
   "source": [
    "The system of equations is very sensitive to the initial conditions that we pick. In this case, we are choosing the initial position at the $x^*$ position of the secondary mass, offset slightly in the $y^*$ axis. The initial velocity is directed along the positive $y^*$ axis and the negative $x^*$ axis."
   ]
  },
  {
   "cell_type": "code",
   "execution_count": null,
   "metadata": {},
   "outputs": [],
   "source": [
    "x_0 = 1 - pi_2\n",
    "y_0 = 0.0455\n",
    "z_0 = 0\n",
    "vx_0 = -0.5\n",
    "vy_0 = 0.5\n",
    "vz_0 = 0\n",
    "\n",
    "# Then stack everything together into the state vector\n",
    "r_0 = np.array((x_0, y_0, z_0))\n",
    "v_0 = np.array((vx_0, vy_0, vz_0))\n",
    "Y_0 = np.hstack((r_0, v_0))"
   ]
  },
  {
   "cell_type": "markdown",
   "metadata": {},
   "source": [
    "Now we need to define the function that solves the non-dimensional equations of motion, much like the function in the relative motion problem."
   ]
  },
  {
   "cell_type": "code",
   "execution_count": null,
   "metadata": {},
   "outputs": [],
   "source": [
    "def nondim_cr3bp(t, Y):\n",
    "    \"\"\"Solve the CR3BP in nondimensional coordinates.\n",
    "\n",
    "    The state vector is Y, with the first three components as the\n",
    "    position of $m$, and the second three components its velocity.\n",
    "\n",
    "    The solution is parameterized on $\\\\pi_2$, the mass ratio.\n",
    "    \"\"\"\n",
    "    # Get the position and velocity from the solution vector\n",
    "    x, y, z = Y[:3]\n",
    "    xdot, ydot, zdot = Y[3:]\n",
    "\n",
    "    # Define the derivative vector\n",
    "    Ydot = np.zeros_like(Y)\n",
    "    Ydot[:3] = Y[3:]\n",
    "\n",
    "    sigma = np.sqrt(np.sum(np.square([x + pi_2, y, z])))\n",
    "    psi = np.sqrt(np.sum(np.square([x - 1 + pi_2, y, z])))\n",
    "    Ydot[3] = (\n",
    "        2 * ydot\n",
    "        + x\n",
    "        - (1 - pi_2) * (x + pi_2) / sigma**3\n",
    "        - pi_2 * (x - 1 + pi_2) / psi**3\n",
    "    )\n",
    "    Ydot[4] = -2 * xdot + y - (1 - pi_2) * y / sigma**3 - pi_2 * y / psi**3\n",
    "    Ydot[5] = -(1 - pi_2) / sigma**3 * z - pi_2 / psi**3 * z\n",
    "    return Ydot"
   ]
  },
  {
   "cell_type": "markdown",
   "metadata": {},
   "source": [
    "Now we can solve the problem with `solve_ivp()`. We choose an end time of 25 non-dimensional units, pretty much arbitrarily to see what we can get."
   ]
  },
  {
   "cell_type": "code",
   "execution_count": null,
   "metadata": {},
   "outputs": [],
   "source": [
    "t_0 = 0  # nondimensional time\n",
    "t_f = 20  # nondimensional time\n",
    "t_points = np.linspace(t_0, t_f, 1000)\n",
    "sol = solve_ivp(nondim_cr3bp, [t_0, t_f], Y_0, t_eval=t_points)\n",
    "\n",
    "Y = sol.y.T\n",
    "r = Y[:, :3]  # nondimensional distance\n",
    "v = Y[:, 3:]  # nondimensional velocity"
   ]
  },
  {
   "cell_type": "markdown",
   "metadata": {},
   "source": [
    "Finally, to plot the trajectory, we will define some values for the circular orbit of $m_2$ around the barycenter and then plot the trajectory of $m$ in red."
   ]
  },
  {
   "cell_type": "code",
   "execution_count": null,
   "metadata": {
    "tags": [
     "remove-cell"
    ]
   },
   "outputs": [],
   "source": [
    "from myst_nb import glue"
   ]
  },
  {
   "cell_type": "code",
   "execution_count": null,
   "metadata": {
    "tags": [
     "remove-output"
    ]
   },
   "outputs": [],
   "source": [
    "x_2 = (1 - pi_2) * np.cos(np.linspace(0, np.pi, 100))\n",
    "y_2 = (1 - pi_2) * np.sin(np.linspace(0, np.pi, 100))\n",
    "fig, ax = plt.subplots(figsize=(5, 5), dpi=96)\n",
    "\n",
    "# Plot the orbits\n",
    "ax.plot(r[:, 0], r[:, 1], \"r\", label=\"Trajectory\")\n",
    "ax.axhline(0, color=\"k\")\n",
    "ax.plot(np.hstack((x_2, x_2[::-1])), np.hstack((y_2, -y_2[::-1])))\n",
    "ax.plot(-pi_2, 0, \"bo\", label=\"$m_1$\")\n",
    "ax.plot(1 - pi_2, 0, \"go\", label=\"$m_2$\")\n",
    "ax.plot(x_0, y_0, \"ro\")\n",
    "ax.set_aspect(\"equal\")"
   ]
  },
  {
   "cell_type": "code",
   "execution_count": null,
   "metadata": {
    "tags": [
     "remove-cell"
    ]
   },
   "outputs": [],
   "source": [
    "glue(\"cr3bp-example-trajectory\", fig, display=False)"
   ]
  },
  {
   "cell_type": "markdown",
   "metadata": {},
   "source": [
    ":::{glue:figure} cr3bp-example-trajectory\n",
    ":name: fig:cr3bp-example-trajectory\n",
    "\n",
    "The trajectory of $m$ in the rotating frame of reference, in non-dimensional coordinates.\n",
    ":::\n",
    "\n",
    "As shown in {numref}`fig:cr3bp-example-trajectory`, we can get some very interesting behavior of $m$ in the rotating frame of reference. The behavior of $m$ depends very strongly on the initial conditions that we set."
   ]
  },
  {
   "cell_type": "markdown",
   "metadata": {},
   "source": [
    "## Calculating the Jacobi Constant\n",
    "\n",
    "In the nondimensional coordinates, the Jacobi constant is given by Eq. {eq}`eq:jacobi-constant-cr3bp`, repeated here for reference:\n",
    "\n",
    ":::{math}\n",
    "J = \\frac{1}{2} \\left(v^*\\right)^2 - \\frac{1 - \\pi_2}{\\sigma} - \\frac{\\pi_2}{\\psi} - \\frac{1}{2}\\left[\\left(1 - \\pi_2\\right)\\sigma^2 + \\pi_2 \\psi^2\\right]\n",
    ":::\n",
    "\n",
    "This value should be constant over the entire trajectory of the tertiary mass."
   ]
  },
  {
   "cell_type": "code",
   "execution_count": null,
   "metadata": {},
   "outputs": [],
   "source": [
    "speed_sq = np.sum(np.square(v), axis=1)\n",
    "\n",
    "r[:, 0] += pi_2\n",
    "sigma = np.sqrt(np.sum(np.square(r), axis=1))\n",
    "r[:, 0] -= 1.0\n",
    "psi = np.sqrt(np.sum(np.square(r), axis=1))\n",
    "r[:, 0] = r[:, 0] + 1.0 - pi_2\n",
    "\n",
    "J = (\n",
    "    0.5 * speed_sq\n",
    "    - (1 - pi_2) / sigma\n",
    "    - pi_2 / psi\n",
    "    - 0.5 * ((1 - pi_2) * sigma**2 + pi_2 * psi**2)\n",
    ")"
   ]
  },
  {
   "cell_type": "markdown",
   "metadata": {},
   "source": [
    "Now that we have calculated $J$ as a function of time, let's plot it! Hopefully it's constant..."
   ]
  },
  {
   "cell_type": "code",
   "execution_count": null,
   "metadata": {
    "tags": [
     "remove-output"
    ]
   },
   "outputs": [],
   "source": [
    "fig, ax = plt.subplots(figsize=(8, 6), dpi=96)\n",
    "ax.plot(sol.t, J, label=\"Jacobi Constant\")\n",
    "ax.axhline(J[0], color=\"C1\", label=\"Initial Jacobi Constant\")\n",
    "ax.legend(loc=\"center left\")\n",
    "ax.set_xlabel(\"$\\\\tau$\")\n",
    "ax.set_ylabel(\"$J$\")"
   ]
  },
  {
   "cell_type": "code",
   "execution_count": null,
   "metadata": {
    "tags": [
     "remove-cell"
    ]
   },
   "outputs": [],
   "source": [
    "glue(\"runge-kutta-jacobi-constant\", fig, display=False)"
   ]
  },
  {
   "cell_type": "markdown",
   "metadata": {},
   "source": [
    ":::{glue:figure} runge-kutta-jacobi-constant\n",
    ":name: fig:runge-kutta-jacobi-constant\n",
    "\n",
    "The Jacobi constant, $J$, as a function of non-dimensional time. The horizontal line is the initial Jacobi constant.\n",
    ":::\n",
    "\n",
    "Oh dear. {numref}`fig:runge-kutta-jacobi-constant` shows that the Jacobi constant varies by about 0.02 over the trajectory. Keep in mind that a change of $J$ on the order of $10^{-2}$ is the difference from the $L_1$ and $L_2$ points being accessible in the Earth-Moon system. So a change of $2\\times 10^{-2}$ is quite large on that scale.\n",
    "\n",
    "## Tighten the Integrator Tolerances\n",
    "\n",
    "According to Rubinsztejn {cite}`Rubinsztejn2019`, the problem may be with the integrator we're using, which doesn't guarantee that energy is conserved because of the algorithm it uses. We can change the precision requirements for the solver. The default integrator for `solve_ivp()` is a [5th order Runge-Kutta integrator](https://docs.scipy.org/doc/scipy/reference/generated/scipy.integrate.RK45.html#scipy.integrate.RK45), with absolute and relative tolerances of $10^{-6}$ and $10^{-3}$, respectively.\n",
    "\n",
    "We will decrease the absolute and relative tolerances, to ensure that the solver is producing a high-accuracy solution."
   ]
  },
  {
   "cell_type": "code",
   "execution_count": null,
   "metadata": {
    "tags": [
     "remove-output"
    ]
   },
   "outputs": [],
   "source": [
    "sol_hp = solve_ivp(nondim_cr3bp, [t_0, t_f], Y_0, atol=1e-9, rtol=1e-6, t_eval=t_points)\n",
    "Y_hp = sol_hp.y.T\n",
    "r_hp = Y_hp[:, :3]  # nondimensional distance\n",
    "v_hp = Y_hp[:, 3:]  # nondimensional velocity\n",
    "\n",
    "speed_sq_hp = np.sum(np.square(v_hp), axis=1)\n",
    "\n",
    "r_hp[:, 0] += pi_2\n",
    "sigma_hp = np.sqrt(np.sum(np.square(r_hp), axis=1))\n",
    "r_hp[:, 0] -= 1\n",
    "psi_hp = np.sqrt(np.sum(np.square(r_hp), axis=1))\n",
    "r_hp[:, 0] = r_hp[:, 0] + 1 - pi_2\n",
    "\n",
    "J_hp = (\n",
    "    0.5 * speed_sq_hp\n",
    "    - (1 - pi_2) / sigma_hp\n",
    "    - pi_2 / psi_hp\n",
    "    - 0.5 * ((1 - pi_2) * sigma_hp**2 + pi_2 * psi_hp**2)\n",
    ")\n",
    "\n",
    "fig, ax = plt.subplots(figsize=(6, 4), dpi=96)\n",
    "ax.plot(sol_hp.t, J_hp, label=\"Jacobi Constant\")\n",
    "ax.axhline(J_hp[0], color=\"C1\", label=\"Initial Jacobi Constant\")\n",
    "ax.set_ylim(-1.4988, -1.49886)\n",
    "ax.legend(loc=\"upper right\")\n",
    "ax.set_xlabel(\"$\\\\tau$\")\n",
    "ax.set_ylabel(\"$J$\")\n",
    "ax.ticklabel_format(style=\"plain\", useOffset=False)"
   ]
  },
  {
   "cell_type": "code",
   "execution_count": null,
   "metadata": {
    "tags": [
     "remove-cell"
    ]
   },
   "outputs": [],
   "source": [
    "glue(\"runge-kutta-small-tolerance\", fig, display=False)"
   ]
  },
  {
   "cell_type": "markdown",
   "metadata": {},
   "source": [
    ":::{glue:figure} runge-kutta-small-tolerance\n",
    ":name: fig:runge-kutta-small-tolerance\n",
    "\n",
    "The Jacobi constant, $J$, as a function of non-dimensional time using a solver with reduced tolerances. The horizontal line is the initial value of the Jacobi constant.\n",
    ":::\n",
    "\n",
    "As shown in {numref}`fig:runge-kutta-small-tolerance`, reducing the tolerances significantly improves the behavior of the solver. The change in $J$ is now on the order of $1\\times 10^{-5}$, which is acceptable for reasonable lengths of integration time.\n",
    "\n",
    "{numref}`fig:trajectory-comparison-cr3bp` shows the trajectory of $m$ for both of the solution cases here. The trajectories clearly diverge quite quickly after the simulation starts."
   ]
  },
  {
   "cell_type": "code",
   "execution_count": null,
   "metadata": {
    "tags": [
     "remove-output"
    ]
   },
   "outputs": [],
   "source": [
    "fig, ax = plt.subplots(figsize=(5, 5), dpi=96)\n",
    "\n",
    "# Plot the orbits\n",
    "ax.plot(r_hp[:, 0], r[:, 1], \"r\", label=\"Reduced Tolerances Trajectory\")\n",
    "ax.axhline(0, color=\"k\")\n",
    "ax.plot(np.hstack((x_2, x_2[::-1])), np.hstack((y_2, -y_2[::-1])))\n",
    "ax.plot(-pi_2, 0, \"bo\")\n",
    "ax.plot(1 - pi_2, 0, \"go\")\n",
    "ax.plot(x_0, y_0, \"ro\")\n",
    "ax.plot(r[:, 0], r[:, 1], \"C2\", label=\"Original Trajectory\")\n",
    "ax.set_aspect(\"equal\")"
   ]
  },
  {
   "cell_type": "code",
   "execution_count": null,
   "metadata": {
    "tags": [
     "remove-cell"
    ]
   },
   "outputs": [],
   "source": [
    "box = ax.get_position()\n",
    "ax.set_position([box.x0, box.y0, box.width * 0.8, box.height])\n",
    "\n",
    "# Put a legend to the right of the current axis\n",
    "ax.legend(loc=\"upper left\", bbox_to_anchor=(1, 1))\n",
    "glue(\"trajectory-comparison-cr3bp\", fig, display=False)"
   ]
  },
  {
   "cell_type": "markdown",
   "metadata": {},
   "source": [
    ":::{glue:figure} trajectory-comparison-cr3bp\n",
    ":name: fig:trajectory-comparison-cr3bp\n",
    "\n",
    "The two trajectories for the solutions to this problem, in the co-rotating frame.\n",
    ":::\n",
    "\n",
    "## Cause of Error\n",
    "\n",
    "Now, let's examine {numref}`fig:runge-kutta-jacobi-constant` and {numref}`fig:runge-kutta-small-tolerance` again. There appears to be a structure to the changes in $J$. This gives us a hint that the problem might be related to the physical situation that the tertiary mass finds itself in. Let's plot the distance from the larger mass, given by $\\sigma$, on the same plot as the Jacobi constant."
   ]
  },
  {
   "cell_type": "code",
   "execution_count": null,
   "metadata": {
    "tags": [
     "remove-output"
    ]
   },
   "outputs": [],
   "source": [
    "fig, J_ax = plt.subplots(figsize=(6, 4), dpi=96)\n",
    "Jacobi_plot = J_ax.plot(sol_hp.t, J_hp, label=\"Jacobi Constant\")\n",
    "initial_Jacobi = J_ax.axhline(J_hp[0], color=\"C1\", label=\"Initial Jacobi Constant\")\n",
    "s_ax = J_ax.twinx()\n",
    "sigma_plot = s_ax.plot(sol_hp.t, sigma_hp, \"C2\", label=r\"$\\sigma$\")\n",
    "s_ax.set_ylim(0, 1.15)\n",
    "J_ax.ticklabel_format(style=\"plain\", useOffset=False)\n",
    "J_ax.set_xlabel(\"$\\\\tau$\")\n",
    "J_ax.set_ylabel(\"$J$\")\n",
    "s_ax.set_ylabel(\"$\\\\sigma$\")"
   ]
  },
  {
   "cell_type": "code",
   "execution_count": null,
   "metadata": {
    "tags": [
     "remove-cell"
    ]
   },
   "outputs": [],
   "source": [
    "lns = [*Jacobi_plot, initial_Jacobi, *sigma_plot]\n",
    "labs = [ll.get_label() for ll in lns]\n",
    "J_ax.legend(lns, labs, loc=\"best\")\n",
    "\n",
    "glue(\"jacobi-constant-with-sigma\", fig, display=False)"
   ]
  },
  {
   "cell_type": "markdown",
   "metadata": {},
   "source": [
    ":::{glue:figure} jacobi-constant-with-sigma\n",
    ":name: fig:jacobi-constant-with-sigma\n",
    "\n",
    "The Jacobi constant, $J$, and the non-dimensional position relative to $m_1$, plotted as a function of non-dimensional time.\n",
    ":::\n",
    "\n",
    "As you can see in {numref}`fig:jacobi-constant-with-sigma`, the error in the Jacobi constant spikes when the tertiary mass gets closer to the primary mass, $m_1$.  This makes a certain amount of sense, because the acceleration terms depend inversely on the cube of $\\sigma$. As the value of $\\sigma$ gets smaller, the error grows.\n",
    "\n",
    "This error can be avoided by using a different class of numerical integrators, called [**symplectic integrators**](https://en.wikipedia.org/wiki/Symplectic_integrator). We won't have time to discuss those further right now, though. If you're interested in taking a crack at an implementation, you can find sample code here: <http://www.unige.ch/~hairer/software.html>, and you will be interested in the **Structure-Preserving Algorithms**."
   ]
  },
  {
   "cell_type": "code",
   "execution_count": null,
   "metadata": {
    "tags": [
     "remove-cell"
    ]
   },
   "outputs": [],
   "source": [
    "# Plot the inertial motion\n",
    "from scipy.spatial.transform import Rotation as R\n",
    "\n",
    "theta = sol_hp.t % (2 * np.pi)\n",
    "rot = R.from_euler(\"z\", theta)\n",
    "r_abs = rot.apply(r_hp)"
   ]
  },
  {
   "cell_type": "code",
   "execution_count": null,
   "metadata": {
    "tags": [
     "remove-cell"
    ]
   },
   "outputs": [],
   "source": [
    "fig, ax = plt.subplots(figsize=(5, 5), dpi=96)\n",
    "ax.plot(r_abs[:, 0], r_abs[:, 1], \"r\")\n",
    "ax.plot(np.hstack((x_2, x_2[::-1])), np.hstack((y_2, -y_2[::-1])))\n",
    "ax.plot(-pi_2, 0, \"bo\")\n",
    "ax.plot(1 - pi_2, 0, \"go\")\n",
    "ax.plot(x_0, y_0, \"ro\")"
   ]
  },
  {
   "cell_type": "code",
   "execution_count": null,
   "metadata": {},
   "outputs": [],
   "source": []
  }
 ],
 "metadata": {
  "kernelspec": {
   "display_name": "Python 3 (ipykernel)",
   "language": "python",
   "name": "python3"
  },
  "language_info": {
   "codemirror_mode": {
    "name": "ipython",
    "version": 3
   },
   "file_extension": ".py",
   "mimetype": "text/x-python",
   "name": "python",
   "nbconvert_exporter": "python",
   "pygments_lexer": "ipython3",
   "version": "3.12.2"
  }
 },
 "nbformat": 4,
 "nbformat_minor": 4
}
