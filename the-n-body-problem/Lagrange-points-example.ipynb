{
 "cells": [
  {
   "cell_type": "markdown",
   "metadata": {},
   "source": [
    "# Example: Plotting Lagrange Points\n",
    "\n",
    "In this example, we will plot the Lagrange points for the system as a function of $\\pi_2$.\n",
    "\n",
    "In the nondimensional coordinates, we know that $L_4$ and $L_5$ have analytical solutions from Eq. {eq}`eq:equilateral-lagrange-points` and repeated here for reference:\n",
    "\n",
    ":::{math}\n",
    "\\begin{aligned}\n",
    "  &L_4: & x^* &= \\frac{1}{2} - \\pi_2 & y^* &= \\frac{\\sqrt{3}}{2} \\\\\n",
    "  &L_5: & x^* &= \\frac{1}{2} - \\pi_2 & y^* &= -\\frac{\\sqrt{3}}{2}\n",
    "\\end{aligned}\n",
    ":::\n",
    "\n",
    "However, the collinear Lagrange points do not have an analytical solution, and must be approximated numerically. To do so, we will use [`scipy.optimize.newton()`](https://docs.scipy.org/doc/scipy/reference/generated/scipy.optimize.newton.html) in Python and [`fzero`](https://www.mathworks.com/help/matlab/ref/fzero.html) in Matlab.\n",
    "\n",
    "The formula for the nondimensional position of the collinear Lagrange points is given by Eq. {eq}`eq:collinear-lagrange-solution`, repeated here for reference:\n",
    "\n",
    ":::{math}\n",
    "0 = x^* - \\frac{1 - \\pi_2}{\\left\\lvert x^* + \\pi_2\\right\\rvert ^3}\\left(x^* + \\pi_2\\right) - \\frac{\\pi_2}{\\left\\lvert x^* - 1 + \\pi_2\\right\\rvert ^3}\\left(x^* - 1 + \\pi_2\\right)\n",
    ":::\n",
    "\n",
    "Here, we have a function $f(x^*, \\pi_2)$, which for a given value of $\\pi_2$ has three roots for $x^*$, one for each of the collinear Lagrange points. From {numref}`fig:collinear-lagrange-solution`, we can determine the range of $x^*$ values associated with each point.\n",
    "\n",
    "* $L_2$: $1 < x^* < 1.25$\n",
    "* $L_1$: $-1 < x^* < 1$\n",
    "* $L_3$: $-1.25 < x^* < -1$\n",
    "\n",
    "Both `scipy.optimize.newton` and `fzero` depend on having a good initial guess to get to the right Lagrange point. My suggestion is to use the following initial guess range for both functions, depending on which Lagrange point you're looking for:\n",
    "\n",
    "* $L_2$:\n",
    "  * Python (`scipy.optimize.newton`): `x0=1`\n",
    "  * MATLAB (`fzero`): `[1, 1.5]`\n",
    "* $L_1$:\n",
    "  * Python (`scipy.optimize.newton`): `x0=0`\n",
    "  * MATLAB (`fzero`): Either `[0, -0.5]` or `[0, 0.5]` depending on the value of $\\pi_2$\n",
    "* $L_3$:\n",
    "  * Python (`scipy.optimize.newton`): `x0=-1`\n",
    "  * MATLAB (`fzero`): `[-1, -1.5]`\n",
    "\n",
    "For some reason, the `fzero()` in MATLAB seems much more sensitive to the initial guess value, and if you only provide a single value for the initial guess, it chooses a positive value as the second part of the interval. Thus, if the root is below your initial guess the MATLAB solver will not be able to find it."
   ]
  },
  {
   "cell_type": "markdown",
   "metadata": {},
   "source": [
    "## Python\n",
    "\n",
    "First, we will demonstrate the Python solver. Like for the `solve_ivp` function, we need to define a function that returns a value given the single input `xstar`. Python is flexible enough to allow us to define `pi_2` as another parameter."
   ]
  },
  {
   "cell_type": "code",
   "execution_count": 1,
   "metadata": {},
   "outputs": [],
   "source": [
    "# %matplotlib notebook\n",
    "import matplotlib.path as mpath\n",
    "import matplotlib.pyplot as plt\n",
    "import numpy as np\n",
    "from scipy.optimize import newton"
   ]
  },
  {
   "cell_type": "code",
   "execution_count": 7,
   "metadata": {
    "tags": [
     "remove-cell"
    ]
   },
   "outputs": [
    {
     "ename": "ModuleNotFoundError",
     "evalue": "No module named 'myst_nb'",
     "output_type": "error",
     "traceback": [
      "\u001b[0;31m---------------------------------------------------------------------------\u001b[0m",
      "\u001b[0;31mModuleNotFoundError\u001b[0m                       Traceback (most recent call last)",
      "\u001b[0;32m/tmp/ipykernel_24/1683594817.py\u001b[0m in \u001b[0;36m<module>\u001b[0;34m\u001b[0m\n\u001b[0;32m----> 1\u001b[0;31m \u001b[0;32mfrom\u001b[0m \u001b[0mmyst_nb\u001b[0m \u001b[0;32mimport\u001b[0m \u001b[0mglue\u001b[0m\u001b[0;34m\u001b[0m\u001b[0;34m\u001b[0m\u001b[0m\n\u001b[0m",
      "\u001b[0;31mModuleNotFoundError\u001b[0m: No module named 'myst_nb'"
     ]
    }
   ],
   "source": [
    "from myst_nb import glue"
   ]
  },
  {
   "cell_type": "code",
   "execution_count": 2,
   "metadata": {},
   "outputs": [],
   "source": [
    "# This code defines a nice shape for the center of mass of the system.\n",
    "circle = mpath.Path.unit_circle()\n",
    "wedge_1 = mpath.Path.wedge(90, 180)\n",
    "wedge_2 = mpath.Path.wedge(270, 0)\n",
    "\n",
    "verts = np.concatenate(\n",
    "    [circle.vertices, wedge_1.vertices[::-1, ...], wedge_2.vertices[::-1, ...]]\n",
    ")\n",
    "codes = np.concatenate([circle.codes, wedge_1.codes, wedge_2.codes])\n",
    "center_of_mass = mpath.Path(verts, codes)"
   ]
  },
  {
   "cell_type": "code",
   "execution_count": 3,
   "metadata": {},
   "outputs": [],
   "source": [
    "# These masses represent the Earth-Moon system\n",
    "m_1 = 5.974e24  # kg\n",
    "m_2 = 7.348e22  # kg\n",
    "pi_2 = m_2 / (m_1 + m_2)\n",
    "\n",
    "# These give us the coordinates of the orbits of m_2 and m_1\n",
    "x_2 = (1 - pi_2) * np.cos(np.linspace(0, np.pi, 100))\n",
    "y_2 = (1 - pi_2) * np.sin(np.linspace(0, np.pi, 100))\n",
    "x_1 = (-pi_2) * np.cos(np.linspace(0, np.pi, 100))\n",
    "y_1 = (-pi_2) * np.sin(np.linspace(0, np.pi, 100))"
   ]
  },
  {
   "cell_type": "code",
   "execution_count": 4,
   "metadata": {},
   "outputs": [],
   "source": [
    "def collinear_lagrange(xstar, pi_2):\n",
    "    \"\"\"Calculate the resultant of the collinear Lagrange point equation.\n",
    "\n",
    "    This is a function f(xstar, pi_2), where xstar is the nondimensional x coordinate\n",
    "    and pi_2 is the nondimensional mass ratio. The function should be passed to\n",
    "    scipy.optimize.newton (or another Newton solver) to find a value for xstar\n",
    "    that satsifies the equation, for a given value of pi_2.\n",
    "\n",
    "    The solver will try different values of xstar until the return value is equal to\n",
    "    zero.\n",
    "    \"\"\"\n",
    "    first_term = xstar\n",
    "    second_term = (1 - pi_2) / np.abs(xstar + pi_2) ** 3 * (xstar + pi_2)\n",
    "    third_term = pi_2 / np.abs(xstar - 1 + pi_2) ** 3 * (xstar - 1 + pi_2)\n",
    "    return first_term - second_term - third_term"
   ]
  },
  {
   "cell_type": "markdown",
   "metadata": {},
   "source": [
    "Then we need to pass this to the Newton solver. The function signature is:\n",
    "\n",
    "```python\n",
    "newton(func, x0, args)\n",
    "```\n",
    "\n",
    "where `func` is the function to be solved, `x0` is the initial guess, and `args` is a tuple of additional arguments to pass to `func`."
   ]
  },
  {
   "cell_type": "code",
   "execution_count": 8,
   "metadata": {},
   "outputs": [
    {
     "name": "stdout",
     "output_type": "stream",
     "text": [
      "L_1=0.8369154703225321, L_2=1.1556818961296604, L_3=-1.0050626166357435\n"
     ]
    }
   ],
   "source": [
    "L_2 = newton(func=collinear_lagrange, x0=1, args=(pi_2,))\n",
    "L_1 = newton(func=collinear_lagrange, x0=0, args=(pi_2,))\n",
    "L_3 = newton(func=collinear_lagrange, x0=-1, args=(pi_2,))\n",
    "print(f\"{L_1=}, {L_2=}, {L_3=}\")"
   ]
  },
  {
   "cell_type": "markdown",
   "metadata": {},
   "source": [
    "Remember, these are in nondimensional coordinates. We can then plot the Lagrange points relative to $m_1$ and $m_2$ in the rotating frame of reference."
   ]
  },
  {
   "cell_type": "code",
   "execution_count": 14,
   "metadata": {
    "tags": [
     "remove-output"
    ]
   },
   "outputs": [
    {
     "data": {
      "text/plain": [
       "<matplotlib.legend.Legend at 0xffff6c079520>"
      ]
     },
     "execution_count": 14,
     "metadata": {},
     "output_type": "execute_result"
    },
    {
     "data": {
      "image/png": "[encoded data removed]",
      "text/plain": [
       "<Figure size 480x480 with 1 Axes>"
      ]
     },
     "metadata": {
      "needs_background": "light"
     },
     "output_type": "display_data"
    }
   ],
   "source": [
    "fig, ax = plt.subplots(figsize=(5, 5), dpi=96)\n",
    "ax.set_xlabel(\"$x^*$\")\n",
    "ax.set_ylabel(\"$y^*$\")\n",
    "\n",
    "# Plot the orbits\n",
    "ax.axhline(0, color=\"k\")\n",
    "ax.plot(np.hstack((x_2, x_2[::-1])), np.hstack((y_2, -y_2[::-1])))\n",
    "ax.plot(np.hstack((x_1, x_1[::-1])), np.hstack((y_1, -y_1[::-1])))\n",
    "ax.plot(\n",
    "    [-pi_2, 0.5 - pi_2, 1 - pi_2, 0.5 - pi_2, -pi_2],\n",
    "    [0, np.sqrt(3) / 2, 0, -np.sqrt(3) / 2, 0],\n",
    "    \"k\",\n",
    "    ls=\"--\",\n",
    "    lw=1,\n",
    ")\n",
    "\n",
    "# Plot the Lagrange Points and masses\n",
    "ax.plot(L_1, 0, \"rv\", label=\"$L_1$\")\n",
    "ax.plot(L_2, 0, \"r^\", label=\"$L_2$\")\n",
    "ax.plot(L_3, 0, \"rp\", label=\"$L_3$\")\n",
    "ax.plot(0.5 - pi_2, np.sqrt(3) / 2, \"rX\", label=\"$L_4$\")\n",
    "ax.plot(0.5 - pi_2, -np.sqrt(3) / 2, \"rs\", label=\"$L_5$\")\n",
    "ax.plot(0, 0, \"k\", marker=center_of_mass, markersize=10)\n",
    "ax.plot(-pi_2, 0, \"bo\", label=\"$m_1$\")\n",
    "ax.plot(1 - pi_2, 0, \"go\", label=\"$m_2$\")\n",
    "ax.legend()\n",
    "ax.set_aspect(\"equal\")"
   ]
  },
  {
   "cell_type": "code",
   "execution_count": null,
   "metadata": {
    "tags": [
     "remove-input"
    ]
   },
   "outputs": [],
   "source": [
    "box = ax.get_position()\n",
    "ax.set_position([box.x0, box.y0, box.width * 0.8, box.height])\n",
    "\n",
    "# Put a legend to the right of the current axis\n",
    "ax.legend(loc=\"upper left\", bbox_to_anchor=(1, 1))\n",
    "glue(\"lagrange-points-earth-moon\", fig, display=False)"
   ]
  },
  {
   "cell_type": "markdown",
   "metadata": {},
   "source": [
    ":::{glue:figure} lagrange-points-earth-moon\n",
    ":name: fig:lagrange-points-earth-moon\n",
    "\n",
    "The location of the Lagrange points in the Earth-Moon system, shown in non-dimensional coordinates.\n",
    ":::"
   ]
  },
  {
   "cell_type": "markdown",
   "metadata": {},
   "source": [
    "## Matlab\n",
    "\n",
    "In MATLAB, we are using `fzero` as the solver. The code below produces the same output as the Python code above.\n",
    "\n",
    ":::{literalinclude} scripts/lagrange_points_example.m\n",
    ":language: matlab\n",
    ":::\n",
    "\n",
    "Notice that to find $L_1$ in Matlab, we had to use the initial guess range from 0.01 to 0.97. Matlab is more sensitive to the initial guess, so you need to make sure that the root is within the initial guess you choose. The `collinear_lagrange` function is discontinuous around 0 and 1.0, so you need to choose your limits carefully.\n",
    "\n",
    "It may help to plot the function for a given problem. To do so, within the script, add the line `fplot(@collinear_lagrange)` to show a plot of the function."
   ]
  },
  {
   "cell_type": "code",
   "execution_count": null,
   "metadata": {},
   "outputs": [],
   "source": []
  }
 ],
 "metadata": {
  "kernelspec": {
   "display_name": "Python 3 (ipykernel)",
   "language": "python",
   "name": "python3"
  },
  "language_info": {
   "codemirror_mode": {
    "name": "ipython",
    "version": 3
   },
   "file_extension": ".py",
   "mimetype": "text/x-python",
   "name": "python",
   "nbconvert_exporter": "python",
   "pygments_lexer": "ipython3",
   "version": "3.9.6"
  },
  "toc-showcode": true,
  "toc-showmarkdowntxt": true,
  "toc-showtags": true
 },
 "nbformat": 4,
 "nbformat_minor": 4
}
